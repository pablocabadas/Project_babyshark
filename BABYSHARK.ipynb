{
 "cells": [
  {
   "cell_type": "code",
   "execution_count": 1,
   "metadata": {},
   "outputs": [],
   "source": [
    "import pandas as pd\n",
    "import numpy as np"
   ]
  },
  {
   "cell_type": "code",
   "execution_count": 2,
   "metadata": {},
   "outputs": [
    {
     "data": {
      "text/plain": [
       "Index(['Case Number', 'Date', 'Year', 'Type', 'Country', 'Area', 'Location',\n",
       "       'Activity', 'Name', 'Sex ', 'Age', 'Injury', 'Fatal (Y/N)', 'Time',\n",
       "       'Species ', 'Investigator or Source', 'pdf', 'href formula', 'href',\n",
       "       'Case Number.1', 'Case Number.2', 'original order', 'Unnamed: 22',\n",
       "       'Unnamed: 23'],\n",
       "      dtype='object')"
      ]
     },
     "execution_count": 2,
     "metadata": {},
     "output_type": "execute_result"
    }
   ],
   "source": [
    "df = pd.read_csv(\"Data/attacks.csv\",encoding='latin')\n",
    "df.columns"
   ]
  },
  {
   "cell_type": "code",
   "execution_count": 27,
   "metadata": {},
   "outputs": [
    {
     "data": {
      "text/html": [
       "<div>\n",
       "<style scoped>\n",
       "    .dataframe tbody tr th:only-of-type {\n",
       "        vertical-align: middle;\n",
       "    }\n",
       "\n",
       "    .dataframe tbody tr th {\n",
       "        vertical-align: top;\n",
       "    }\n",
       "\n",
       "    .dataframe thead th {\n",
       "        text-align: right;\n",
       "    }\n",
       "</style>\n",
       "<table border=\"1\" class=\"dataframe\">\n",
       "  <thead>\n",
       "    <tr style=\"text-align: right;\">\n",
       "      <th></th>\n",
       "      <th></th>\n",
       "      <th>Year</th>\n",
       "      <th>Activity</th>\n",
       "      <th>Age</th>\n",
       "      <th>Fatal (Y/N)</th>\n",
       "    </tr>\n",
       "    <tr>\n",
       "      <th>Country</th>\n",
       "      <th>Area</th>\n",
       "      <th></th>\n",
       "      <th></th>\n",
       "      <th></th>\n",
       "      <th></th>\n",
       "    </tr>\n",
       "  </thead>\n",
       "  <tbody>\n",
       "    <tr>\n",
       "      <th rowspan=\"2\" valign=\"top\">YEMEN</th>\n",
       "      <th>Aden</th>\n",
       "      <td>1898.0</td>\n",
       "      <td>Swimming at side of small boat</td>\n",
       "      <td>24</td>\n",
       "      <td>Y</td>\n",
       "    </tr>\n",
       "    <tr>\n",
       "      <th>Aden</th>\n",
       "      <td>1898.0</td>\n",
       "      <td>Standing</td>\n",
       "      <td>22</td>\n",
       "      <td>Y</td>\n",
       "    </tr>\n",
       "    <tr>\n",
       "      <th>WESTERN SAMOA</th>\n",
       "      <th>Upolu Island</th>\n",
       "      <td>1972.0</td>\n",
       "      <td>Swimming</td>\n",
       "      <td>25</td>\n",
       "      <td>Y</td>\n",
       "    </tr>\n",
       "    <tr>\n",
       "      <th rowspan=\"2\" valign=\"top\">VIETNAM</th>\n",
       "      <th>Khánh Hòa Province</th>\n",
       "      <td>1907.0</td>\n",
       "      <td>Fishing</td>\n",
       "      <td>20</td>\n",
       "      <td>N</td>\n",
       "    </tr>\n",
       "    <tr>\n",
       "      <th>Binh Dinh Province</th>\n",
       "      <td>2010.0</td>\n",
       "      <td>Swimming</td>\n",
       "      <td>17</td>\n",
       "      <td>N</td>\n",
       "    </tr>\n",
       "    <tr>\n",
       "      <th>...</th>\n",
       "      <th>...</th>\n",
       "      <td>...</td>\n",
       "      <td>...</td>\n",
       "      <td>...</td>\n",
       "      <td>...</td>\n",
       "    </tr>\n",
       "    <tr>\n",
       "      <th>ARGENTINA</th>\n",
       "      <th>Buenos Aires Province</th>\n",
       "      <td>1954.0</td>\n",
       "      <td>Floating</td>\n",
       "      <td>18</td>\n",
       "      <td>N</td>\n",
       "    </tr>\n",
       "    <tr>\n",
       "      <th rowspan=\"3\" valign=\"top\">AMERICAN SAMOA</th>\n",
       "      <th>Tutuila Island</th>\n",
       "      <td>1958.0</td>\n",
       "      <td>Cleaning hull of ship</td>\n",
       "      <td>22</td>\n",
       "      <td>Y</td>\n",
       "    </tr>\n",
       "    <tr>\n",
       "      <th>Tutuila Island</th>\n",
       "      <td>1955.0</td>\n",
       "      <td>Swimming</td>\n",
       "      <td>28</td>\n",
       "      <td>Y</td>\n",
       "    </tr>\n",
       "    <tr>\n",
       "      <th>Tutuila Island</th>\n",
       "      <td>1954.0</td>\n",
       "      <td>Dived overboard &amp; was swimming near stern of t...</td>\n",
       "      <td>27</td>\n",
       "      <td>Y</td>\n",
       "    </tr>\n",
       "    <tr>\n",
       "      <th>TONGA</th>\n",
       "      <th>Minerva Reef</th>\n",
       "      <td>2000.0</td>\n",
       "      <td>Scuba diving</td>\n",
       "      <td>69</td>\n",
       "      <td>N</td>\n",
       "    </tr>\n",
       "  </tbody>\n",
       "</table>\n",
       "<p>3040 rows × 4 columns</p>\n",
       "</div>"
      ],
      "text/plain": [
       "                                        Year   \n",
       "Country        Area                            \n",
       "YEMEN          Aden                   1898.0  \\\n",
       "               Aden                   1898.0   \n",
       "WESTERN SAMOA  Upolu Island           1972.0   \n",
       "VIETNAM        Khánh Hòa Province     1907.0   \n",
       "               Binh Dinh Province     2010.0   \n",
       "...                                      ...   \n",
       "ARGENTINA      Buenos Aires Province  1954.0   \n",
       "AMERICAN SAMOA Tutuila Island         1958.0   \n",
       "               Tutuila Island         1955.0   \n",
       "               Tutuila Island         1954.0   \n",
       " TONGA         Minerva Reef           2000.0   \n",
       "\n",
       "                                                                               Activity   \n",
       "Country        Area                                                                       \n",
       "YEMEN          Aden                                      Swimming at side of small boat  \\\n",
       "               Aden                                                            Standing   \n",
       "WESTERN SAMOA  Upolu Island                                                    Swimming   \n",
       "VIETNAM        Khánh Hòa Province                                               Fishing   \n",
       "               Binh Dinh Province                                              Swimming   \n",
       "...                                                                                 ...   \n",
       "ARGENTINA      Buenos Aires Province                                           Floating   \n",
       "AMERICAN SAMOA Tutuila Island                                    Cleaning hull of ship    \n",
       "               Tutuila Island                                                  Swimming   \n",
       "               Tutuila Island         Dived overboard & was swimming near stern of t...   \n",
       " TONGA         Minerva Reef                                                Scuba diving   \n",
       "\n",
       "                                     Age Fatal (Y/N)  \n",
       "Country        Area                                   \n",
       "YEMEN          Aden                   24           Y  \n",
       "               Aden                   22           Y  \n",
       "WESTERN SAMOA  Upolu Island           25           Y  \n",
       "VIETNAM        Khánh Hòa Province     20           N  \n",
       "               Binh Dinh Province     17           N  \n",
       "...                                   ..         ...  \n",
       "ARGENTINA      Buenos Aires Province  18           N  \n",
       "AMERICAN SAMOA Tutuila Island         22           Y  \n",
       "               Tutuila Island         28           Y  \n",
       "               Tutuila Island         27           Y  \n",
       " TONGA         Minerva Reef           69           N  \n",
       "\n",
       "[3040 rows x 4 columns]"
      ]
     },
     "execution_count": 27,
     "metadata": {},
     "output_type": "execute_result"
    }
   ],
   "source": [
    "df_2 = df[[\"Country\", \"Area\", \"Year\", \"Activity\", \"Age\", \"Fatal (Y/N)\"]]\n",
    "df_2.isnull()\n",
    "df_sharks=df_2.dropna(subset=[\"Country\", \"Area\", \"Year\", \"Activity\", \"Age\", \"Fatal (Y/N)\"])\n",
    "df_sharks = df_sharks.set_index([\"Country\", \"Area\"])\n",
    "df_sharks.sort_index(ascending=False)"
   ]
  },
  {
   "cell_type": "code",
   "execution_count": 4,
   "metadata": {},
   "outputs": [
    {
     "ename": "NameError",
     "evalue": "name 'df4' is not defined",
     "output_type": "error",
     "traceback": [
      "\u001b[0;31m---------------------------------------------------------------------------\u001b[0m",
      "\u001b[0;31mNameError\u001b[0m                                 Traceback (most recent call last)",
      "Input \u001b[0;32mIn [4]\u001b[0m, in \u001b[0;36m<cell line: 3>\u001b[0;34m()\u001b[0m\n\u001b[1;32m      1\u001b[0m usa\u001b[38;5;241m=\u001b[39mdf_sharks\u001b[38;5;241m.\u001b[39mloc[df_sharks[\u001b[38;5;124m'\u001b[39m\u001b[38;5;124mCountry\u001b[39m\u001b[38;5;124m'\u001b[39m]\u001b[38;5;241m==\u001b[39m\u001b[38;5;124m'\u001b[39m\u001b[38;5;124mUSA\u001b[39m\u001b[38;5;124m'\u001b[39m]\n\u001b[1;32m      2\u001b[0m aust\u001b[38;5;241m=\u001b[39mdf_sharks\u001b[38;5;241m.\u001b[39mloc[df_sharks[\u001b[38;5;124m'\u001b[39m\u001b[38;5;124mCountry\u001b[39m\u001b[38;5;124m'\u001b[39m]\u001b[38;5;241m==\u001b[39m\u001b[38;5;124m'\u001b[39m\u001b[38;5;124mAUSTRALIA\u001b[39m\u001b[38;5;124m'\u001b[39m]\n\u001b[0;32m----> 3\u001b[0m df4\u001b[38;5;241m=\u001b[39m\u001b[43mdf4\u001b[49m[usa \u001b[38;5;241m&\u001b[39m aust]\n",
      "\u001b[0;31mNameError\u001b[0m: name 'df4' is not defined"
     ]
    }
   ],
   "source": [
    "usa=df_sharks.loc[df_sharks['Country']=='USA']\n",
    "aust=df_sharks.loc[df_sharks['Country']=='AUSTRALIA']\n",
    "df4=df4[usa & aust]"
   ]
  },
  {
   "cell_type": "code",
   "execution_count": null,
   "metadata": {},
   "outputs": [],
   "source": [
    "df_sharks = df_sharks.set_index([\"Country\", \"Area\"])\n",
    "df_sharks\n",
    "-----------\n",
    "df_sharks[\"Country\"].unique()\n",
    "--------------------\n",
    "vzla  = df_sharks.Country == \"VENEZUELA\"\n",
    "sa = df_sharks.Country == \"SOUTH AFRICA\"\n",
    "spn = df_sharks.Country == \"SPAIN\"\n",
    "peru = df_sharks.Country == \"PERU\"\n",
    "mex = df_sharks.Country == \"MEXICO\"\n",
    "ind = df_sharks.Country == \"INDONESIA\"\n",
    "cr = df_sharks.Country == \"COSTA RICA\"\n",
    "brz = df_sharks.Country == \"BRAZIL\"\n",
    "ire = df_sharks.Country == \"IRELAND\"\n",
    "df_sharks = [usa|aust|vzla|sa|spn|peru|mex|ind|cr|brz|ire]"
   ]
  },
  {
   "cell_type": "code",
   "execution_count": null,
   "metadata": {},
   "outputs": [],
   "source": [
    "df_sharks.Country.unique()"
   ]
  },
  {
   "cell_type": "code",
   "execution_count": null,
   "metadata": {},
   "outputs": [],
   "source": [
    "df_sharks = (df_sharks.sort(by = [\"Country\", \"Area\"], ascending=False))\n",
    "\n",
    "\n",
    "\n",
    "\n",
    "\n",
    "\n",
    "df_2 = df_2.set_index([\"Country\", \"Area\"])\n",
    "df_2 = (df_2.sort(by = [\"Country\", \"Area\", \"Year\"], ascending=False))\n",
    "df_2.head()\n",
    "-----------\n",
    "df_sharks = df_2.set_index(\"Country\")\n",
    "--------\n",
    "df_2 = (df_2.sort_values(by = [\"Country\", \"Area\", \"Year\"], ascending=True))\n",
    "df_2.head()"
   ]
  },
  {
   "cell_type": "code",
   "execution_count": null,
   "metadata": {},
   "outputs": [],
   "source": [
    "pd.isna(df).sum()"
   ]
  }
 ],
 "metadata": {
  "kernelspec": {
   "display_name": "ironhack",
   "language": "python",
   "name": "ironhack"
  },
  "language_info": {
   "codemirror_mode": {
    "name": "ipython",
    "version": 3
   },
   "file_extension": ".py",
   "mimetype": "text/x-python",
   "name": "python",
   "nbconvert_exporter": "python",
   "pygments_lexer": "ipython3",
   "version": "3.9.12"
  }
 },
 "nbformat": 4,
 "nbformat_minor": 2
}
